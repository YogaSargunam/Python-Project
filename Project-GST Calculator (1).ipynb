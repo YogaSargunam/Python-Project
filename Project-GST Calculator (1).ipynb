{
 "cells": [
  {
   "cell_type": "code",
   "execution_count": 2,
   "id": "d169c2a2-efc9-4f5a-8c2c-41776256fdca",
   "metadata": {},
   "outputs": [
    {
     "name": "stdin",
     "output_type": "stream",
     "text": [
      "Enter the number of products:  2\n",
      "Enter the name of item 1:  apple\n",
      "Enter the amount for item 1:  20\n",
      "Enter the name of item 2:  orange\n",
      "Enter the amount for item 2:  25\n"
     ]
    },
    {
     "name": "stdout",
     "output_type": "stream",
     "text": [
      "apple:\n",
      "\tAmount: 20.0\n",
      "\tGST Rate: 5.0%\n",
      "\tGST Amount: 1.0\n",
      "\tTotal Amount (including GST): 21.0\n",
      "orange:\n",
      "\tAmount: 25.0\n",
      "\tGST Rate: 4.0%\n",
      "\tGST Amount: 1.0\n",
      "\tTotal Amount (including GST): 26.0\n",
      "\n",
      "Total GST Amount: 2.0\n",
      "Total Amount (including GST) for all products: 47.0\n",
      "Thanks for your purchase!! Keep Shopping\n"
     ]
    }
   ],
   "source": [
    "product_rates = {\"apple\": 5, \"milk\": 12, \"laptop\": 18, \"books\": 5, \"table\" : 10, \"chair\" : 8, \"carrot\" : 15, \"orange\" : 4, \"coconut\" : 3, \"pen\" : 1,\n",
    "                \"pencil\" : 2,\"dairy\" : 5,\"fridge\": 12,\"ac\": 15,\"men's t-shirt\": 12,\"women's t-shirt\": 12,\"kids wear\" : 10,\"tv\" : 14} # GST rates for each product\n",
    "num_product = int(input(\"Enter the number of products: \"))\n",
    "products = {}\n",
    "\n",
    "for i in range(num_product):\n",
    "    product_name = input(f\"Enter the name of item {i+1}: \")\n",
    "    product_amount = float(input(f\"Enter the amount for item {i+1}: \"))\n",
    "    products[product_name] = product_amount#Adding in products dict\n",
    "    \n",
    "class GSTCalculator:\n",
    "    def __init__(self, rates):\n",
    "        self.rates = {product : rate / 100 for product, rate in product_rates.items()} # Convert percentage to decimal\n",
    "        \n",
    "    def calculate_gst(self, product):\n",
    "        gst_amount_total = 0\n",
    "        total_amount_total = 0\n",
    "        \n",
    "        for product_name, product_amount in products.items():\n",
    "            product_name_lower = product_name.lower() #Convert the values into lower\n",
    "            if product_name_lower in self.rates:\n",
    "                gst_rate = self.rates[product_name_lower]\n",
    "                gst_amount = product_amount * gst_rate\n",
    "                total_amount = product_amount + gst_amount\n",
    "                gst_amount_total += gst_amount\n",
    "                total_amount_total += total_amount\n",
    "                print(f\"{product_name}:\")\n",
    "                print(f\"\\tAmount: {product_amount:}\")\n",
    "                print(f\"\\tGST Rate: {gst_rate * 100}%\")\n",
    "                print(f\"\\tGST Amount: {gst_amount:}\")\n",
    "                print(f\"\\tTotal Amount (including GST): {total_amount:}\")\n",
    "            else:\n",
    "                print(f\"No GST rate found for product: {product_name}\")\n",
    "\n",
    "        print(f\"\\nTotal GST Amount: {gst_amount_total:}\")\n",
    "        print(f\"Total Amount (including GST) for all products: {total_amount_total:}\")\n",
    "  \n",
    "    \n",
    "calculator = GSTCalculator(product_rates)\n",
    "calculator.calculate_gst(products)\n",
    "print('Thanks for your purchase!! Keep Shopping')"
   ]
  },
  {
   "cell_type": "code",
   "execution_count": null,
   "id": "4f45ed57-c3e3-4e69-abc6-4a3fb5107ffc",
   "metadata": {},
   "outputs": [],
   "source": []
  }
 ],
 "metadata": {
  "kernelspec": {
   "display_name": "Python 3 (ipykernel)",
   "language": "python",
   "name": "python3"
  },
  "language_info": {
   "codemirror_mode": {
    "name": "ipython",
    "version": 3
   },
   "file_extension": ".py",
   "mimetype": "text/x-python",
   "name": "python",
   "nbconvert_exporter": "python",
   "pygments_lexer": "ipython3",
   "version": "3.11.7"
  }
 },
 "nbformat": 4,
 "nbformat_minor": 5
}
