{
 "cells": [
  {
   "cell_type": "code",
   "execution_count": 50,
   "id": "e45bcab6-5e4d-41ab-8aeb-275d3532b6ac",
   "metadata": {},
   "outputs": [
    {
     "name": "stdin",
     "output_type": "stream",
     "text": [
      "Enter the number of products:  3\n",
      "Enter the name of item 1:  Speakers\n"
     ]
    },
    {
     "name": "stdout",
     "output_type": "stream",
     "text": [
      "        No Product details found for :speakers\n"
     ]
    },
    {
     "name": "stdin",
     "output_type": "stream",
     "text": [
      "Enter the name of item 2:  Apple\n",
      "Enter the name of item 3:  tv\n"
     ]
    },
    {
     "name": "stdout",
     "output_type": "stream",
     "text": [
      "apple:\n",
      "\tRate per item: 20\n",
      "\tGST Rate: 5%\n",
      "\tGST Amount: 1.0\n",
      "\tTotal Amount (including GST): 21.0\n",
      "tv:\n",
      "\tRate per item: 14000\n",
      "\tGST Rate: 14%\n",
      "\tGST Amount: 1960.0000000000002\n",
      "\tTotal Amount (including GST): 15960.0\n",
      "\n",
      "Total GST Amount: 1961.0000000000002\n",
      "Total Amount (including GST) for all products: 15981.0\n",
      "Thanks for your purchase!! Keep Shopping\n"
     ]
    }
   ],
   "source": [
    "product_rates = {\n",
    "\"apple\"\t\t\t : {\"rates\": 20,   \"gst\":5 },\n",
    "\"milk\"\t\t\t : {\"rates\": 30,   \"gst\":12},\n",
    "\"laptop\"\t\t : {\"rates\": 35000,\"gst\":18},\n",
    "\"books\"\t\t\t : {\"rates\": 400,  \"gst\":5 },\n",
    "\"table\"\t\t\t : {\"rates\": 3455, \"gst\":10},\n",
    "\"chair\"\t\t\t : {\"rates\": 2000, \"gst\":8 },\n",
    "\"carrot\"\t\t : {\"rates\": 25,   \"gst\":15},\n",
    "\"orange\"\t\t : {\"rates\": 30,   \"gst\":4 },\n",
    "\"coconut\"\t\t : {\"rates\": 20,   \"gst\":3 },\n",
    "\"pen\"\t\t\t : {\"rates\": 5,    \"gst\":1 },\n",
    "\"pencil\"\t\t : {\"rates\": 10,   \"gst\":2 },\n",
    "\"dairy\"\t\t\t : {\"rates\": 30,   \"gst\":5 },\n",
    "\"fridge\"\t\t : {\"rates\": 45000,\"gst\":12},\n",
    "\"ac\"\t\t\t : {\"rates\": 35000,\"gst\":15},\n",
    "\"men's t-shirt\"  : {\"rates\": 499,  \"gst\":12},\n",
    "\"women's t-shirt\": {\"rates\": 799,  \"gst\":12},\n",
    "\"kids wear\"\t\t : {\"rates\": 899,  \"gst\":10},\n",
    "\"tv\"\t\t\t : {\"rates\": 14000,\"gst\":14} \n",
    "} # GST rates and amount for each product\n",
    "\n",
    "def get_product_details():\n",
    "    num_product = int(input(\"Enter the number of products: \"))\n",
    "    products = {}\n",
    "\n",
    "    for i in range(num_product):\n",
    "        product_name = input(f\"Enter the name of item {i+1}: \").lower()\n",
    "        if product_name in product_rates:\n",
    "            products[product_name] = {\"rates\": product_rates[product_name][\"rates\"]}\n",
    "        else:\n",
    "            print(f\"        No Product details found for :{product_name}\")\n",
    "            \n",
    "    return products\n",
    "class GSTCalculator:\n",
    "    def __init__(self, rates):\n",
    "        self.rates = rates\n",
    "\n",
    "    def calculate_gst(self, products):\n",
    "        gst_amount_total = 0\n",
    "        total_amount_total = 0\n",
    "\n",
    "        for product_name, product_info in products.items():\n",
    "            if product_name in self.rates:\n",
    "                rate_info = self.rates[product_name]\n",
    "                product_amount = product_info[\"rates\"] \n",
    "                gst_rate = rate_info[\"gst\"] / 100\n",
    "                gst_amount = product_amount * gst_rate\n",
    "                total_amount = product_amount + gst_amount\n",
    "                gst_amount_total += gst_amount\n",
    "                total_amount_total += total_amount\n",
    "                print(f\"{product_name}:\")\n",
    "                print(f\"\\tRate per item: {product_info['rates']}\")\n",
    "                print(f\"\\tGST Rate: {rate_info['gst']}%\")\n",
    "                print(f\"\\tGST Amount: {gst_amount}\")\n",
    "                print(f\"\\tTotal Amount (including GST): {total_amount}\")\n",
    "            else:\n",
    "                print(f\"No rate information found for product: {product_name}\")\n",
    "\n",
    "        print(f\"\\nTotal GST Amount: {gst_amount_total}\")\n",
    "        print(f\"Total Amount (including GST) for all products: {total_amount_total}\")\n",
    "\n",
    "\n",
    "products = get_product_details()#Function Called\n",
    "calculator = GSTCalculator(product_rates) # Class called\n",
    "calculator.calculate_gst(products) \n",
    "print('Thanks for your purchase!! Keep Shopping')"
   ]
  },
  {
   "cell_type": "code",
   "execution_count": null,
   "id": "41fa9b37-a5a0-4c97-a0fc-b723f5451ad8",
   "metadata": {},
   "outputs": [],
   "source": []
  }
 ],
 "metadata": {
  "kernelspec": {
   "display_name": "Python 3 (ipykernel)",
   "language": "python",
   "name": "python3"
  },
  "language_info": {
   "codemirror_mode": {
    "name": "ipython",
    "version": 3
   },
   "file_extension": ".py",
   "mimetype": "text/x-python",
   "name": "python",
   "nbconvert_exporter": "python",
   "pygments_lexer": "ipython3",
   "version": "3.11.7"
  }
 },
 "nbformat": 4,
 "nbformat_minor": 5
}
